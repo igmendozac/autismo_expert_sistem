{
 "cells": [
  {
   "cell_type": "code",
   "execution_count": 4,
   "id": "d89f6052",
   "metadata": {},
   "outputs": [],
   "source": [
    "# !pip install PyPDF2\n",
    "# !pip install wordcloud\n",
    "# !pip install matplotlib\n",
    "# !pip install beautifulsoup4"
   ]
  },
  {
   "cell_type": "code",
   "execution_count": 20,
   "id": "fe29f610-e540-40bf-9dfb-766ec912ad81",
   "metadata": {},
   "outputs": [],
   "source": [
    "from grobid_client.grobid_client import GrobidClient"
   ]
  },
  {
   "cell_type": "code",
   "execution_count": 21,
   "id": "d3661b8e-bc0c-4aff-8028-e39b0f4c7908",
   "metadata": {},
   "outputs": [
    {
     "name": "stdout",
     "output_type": "stream",
     "text": [
      "GROBID server is up and running\n"
     ]
    }
   ],
   "source": [
    "client = GrobidClient(config_path=\"../grobid_client_python/config.json\")"
   ]
  },
  {
   "cell_type": "code",
   "execution_count": 22,
   "id": "7d1aa9e0-a0f8-43b6-aef6-8d42bbce0c09",
   "metadata": {},
   "outputs": [
    {
     "name": "stdout",
     "output_type": "stream",
     "text": [
      "Processing of ../Data/papers/\\zlib.pub_behavior-analysis-and-learning-a-biobehavioral-approach.pdf failed with error 408 , None\n",
      "Processing of ../Data/papers/\\Applied_Behavior_Analysis_Cooper_Heron_H.pdf failed with error 500 , [TOO_MANY_TOKENS] The document has 1320128 tokens, but the limit is 1000000\n"
     ]
    }
   ],
   "source": [
    "client.process(service = \"processFulltextDocument\", \n",
    "               input_path = \"../Data/papers/\", \n",
    "               output=\"../Data/XML/\", \n",
    "               consolidate_citations=True, \n",
    "               n = 1)"
   ]
  },
  {
   "cell_type": "code",
   "execution_count": null,
   "id": "723679cc-f25d-4ddd-a7a0-ca2c2b33bdfe",
   "metadata": {},
   "outputs": [],
   "source": []
  },
  {
   "cell_type": "code",
   "execution_count": 24,
   "id": "a1a59979-ac4c-4c1d-a3ed-cf8c46943638",
   "metadata": {},
   "outputs": [],
   "source": [
    "# #Produce chunks from article paragraphs\n",
    "# loader = GenericLoader.from_filesystem(\n",
    "#     \"../Data/papers/\",\n",
    "#     glob=\"*\",\n",
    "#     suffixes=[\".pdf\"],\n",
    "#     parser= GrobidParser(segment_sentences=False)\n",
    "# )"
   ]
  },
  {
   "cell_type": "code",
   "execution_count": 23,
   "id": "52a40306-093a-4bdf-b037-62f860db2aca",
   "metadata": {},
   "outputs": [],
   "source": [
    "# docs = loader.load()"
   ]
  }
 ],
 "metadata": {
  "kernelspec": {
   "display_name": "Python 3 (ipykernel)",
   "language": "python",
   "name": "python3"
  },
  "language_info": {
   "codemirror_mode": {
    "name": "ipython",
    "version": 3
   },
   "file_extension": ".py",
   "mimetype": "text/x-python",
   "name": "python",
   "nbconvert_exporter": "python",
   "pygments_lexer": "ipython3",
   "version": "3.11.7"
  }
 },
 "nbformat": 4,
 "nbformat_minor": 5
}
