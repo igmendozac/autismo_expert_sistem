{
 "cells": [
  {
   "cell_type": "code",
   "execution_count": 4,
   "id": "d89f6052",
   "metadata": {},
   "outputs": [],
   "source": [
    "# !pip install PyPDF2\n",
    "# !pip install wordcloud\n",
    "# !pip install matplotlib\n",
    "# !pip install beautifulsoup4"
   ]
  },
  {
   "cell_type": "markdown",
   "id": "3ec8187c-3e7a-468a-986e-ef3f6321ce1b",
   "metadata": {},
   "source": [
    "## Dividir el PDF en un tamaño menor"
   ]
  },
  {
   "cell_type": "code",
   "execution_count": null,
   "id": "f5986fcf-9de6-4c2f-b3f0-6b46e9001a9d",
   "metadata": {},
   "outputs": [],
   "source": [
    "import os\n",
    "from PyPDF2 import PdfFileReader, PdfFileWriter"
   ]
  },
  {
   "cell_type": "code",
   "execution_count": null,
   "id": "1d8fee86-ddc9-4643-89ab-bc0843c7f175",
   "metadata": {},
   "outputs": [],
   "source": [
    "def split_pdf(input_pdf, output_dir, max_pages_per_file):\n",
    "    # Crea un objeto PdfFileReader para el archivo PDF de entrada\n",
    "    with open(input_pdf, 'rb') as file:\n",
    "        pdf_reader = PdfFileReader(file)\n",
    "        num_pages = pdf_reader.numPages\n",
    "\n",
    "        # Calcula la cantidad de archivos que se generarán\n",
    "        num_files = (num_pages + max_pages_per_file - 1) // max_pages_per_file\n",
    "\n",
    "        # Divide el PDF en archivos más pequeños\n",
    "        for i in range(num_files):\n",
    "            start_page = i * max_pages_per_file\n",
    "            end_page = min((i + 1) * max_pages_per_file, num_pages)\n",
    "            \n",
    "            # Crea un nuevo objeto PdfFileWriter para el archivo de salida\n",
    "            output_pdf = os.path.join(output_dir, f\"{os.path.splitext(os.path.basename(input_pdf))[0]}_{i + 1}.pdf\")\n",
    "            with open(output_pdf, 'wb') as output_file:\n",
    "                pdf_writer = PdfFileWriter()\n",
    "\n",
    "                # Copia las páginas desde el PDF original al nuevo PDF\n",
    "                for page_num in range(start_page, end_page):\n",
    "                    pdf_writer.addPage(pdf_reader.getPage(page_num))\n",
    "\n",
    "                # Guarda el archivo de salida\n",
    "                pdf_writer.write(output_file)\n",
    "            print(f\"Archivo {output_pdf} generado con éxito.\")\n",
    "\n",
    "# Ejemplo de uso:\n",
    "input_pdf = \"input.pdf\"\n",
    "output_dir = \"output\"\n",
    "max_pages_per_file = 10\n",
    "\n",
    "# Verifica si el directorio de salida existe, si no, créalo\n",
    "if not os.path.exists(output_dir):\n",
    "    os.makedirs(output_dir)\n",
    "\n",
    "split_pdf(input_pdf, output_dir, max_pages_per_file)"
   ]
  },
  {
   "cell_type": "markdown",
   "id": "17a5618c-0d91-467e-ac22-1e22ef9eb3b6",
   "metadata": {},
   "source": [
    "## GROBID Client"
   ]
  },
  {
   "cell_type": "code",
   "execution_count": 2,
   "id": "fe29f610-e540-40bf-9dfb-766ec912ad81",
   "metadata": {},
   "outputs": [],
   "source": [
    "from grobid_client.grobid_client import GrobidClient"
   ]
  },
  {
   "cell_type": "code",
   "execution_count": 11,
   "id": "d3661b8e-bc0c-4aff-8028-e39b0f4c7908",
   "metadata": {},
   "outputs": [
    {
     "name": "stdout",
     "output_type": "stream",
     "text": [
      "GROBID server is up and running\n"
     ]
    }
   ],
   "source": [
    "client = GrobidClient(config_path=\"../grobid_client_python/config.json\")"
   ]
  },
  {
   "cell_type": "code",
   "execution_count": 12,
   "id": "7d1aa9e0-a0f8-43b6-aef6-8d42bbce0c09",
   "metadata": {},
   "outputs": [
    {
     "name": "stdout",
     "output_type": "stream",
     "text": [
      "Processing of ../Data/papers/\\Applied_Behavior_Analysis_Cooper_Heron_H-301-759-201-459-101-259.pdf failed with error 500 , [GENERAL] An exception occurred while running Grobid.\n"
     ]
    }
   ],
   "source": [
    "client.process(service = \"processFulltextDocument\", \n",
    "               input_path = \"../Data/papers/\", \n",
    "               output=\"../Data/XML/\", \n",
    "               consolidate_citations=True, \n",
    "               n = 1)"
   ]
  },
  {
   "cell_type": "markdown",
   "id": "7d8eadc8-3678-4c91-afa7-0bccf643e9ce",
   "metadata": {},
   "source": [
    "## GROBID in LangChain"
   ]
  },
  {
   "cell_type": "code",
   "execution_count": 2,
   "id": "6b98eb2e-6f67-4072-b128-1ae8d3925c1c",
   "metadata": {},
   "outputs": [],
   "source": [
    "# from langchain_community.document_loaders.parsers import GrobidParser\n",
    "# from langchain_community.document_loaders.generic import GenericLoader"
   ]
  },
  {
   "cell_type": "code",
   "execution_count": 3,
   "id": "09da88c8-3b10-4f2d-920a-c303130d5613",
   "metadata": {},
   "outputs": [],
   "source": [
    "# #Produce chunks from article paragraphs\n",
    "# loader = GenericLoader.from_filesystem(\n",
    "#     \"../Data/papers/\",\n",
    "#     glob=\"*\",\n",
    "#     suffixes=[\".pdf\"],\n",
    "#     parser= GrobidParser(segment_sentences=False)\n",
    "# )"
   ]
  },
  {
   "cell_type": "code",
   "execution_count": 4,
   "id": "053b379d-1a23-4a8b-ba8c-acf34380ff8e",
   "metadata": {},
   "outputs": [],
   "source": [
    "# docs = loader.load()"
   ]
  },
  {
   "cell_type": "code",
   "execution_count": 5,
   "id": "851b9a27-7ebc-41d2-abcc-833279273fa3",
   "metadata": {},
   "outputs": [],
   "source": [
    "# #Produce chunks from article sentences\n",
    "# loader = GenericLoader.from_filesystem(\n",
    "#     \"../Data/papers/\",\n",
    "#     glob=\"*\",\n",
    "#     suffixes=[\".pdf\"],\n",
    "#     parser= GrobidParser(segment_sentences=True),\n",
    "#     show_progress = True\n",
    "# )"
   ]
  },
  {
   "cell_type": "code",
   "execution_count": 6,
   "id": "5dd10fec-334f-4afa-a2f1-00ebf5b6f197",
   "metadata": {},
   "outputs": [],
   "source": [
    "# docs = loader.load()"
   ]
  },
  {
   "cell_type": "code",
   "execution_count": 7,
   "id": "52a40306-093a-4bdf-b037-62f860db2aca",
   "metadata": {},
   "outputs": [],
   "source": [
    "# docs = loader.load()"
   ]
  },
  {
   "cell_type": "code",
   "execution_count": null,
   "id": "d45d33e0-67b5-4156-a763-cf5126021dbd",
   "metadata": {},
   "outputs": [],
   "source": []
  }
 ],
 "metadata": {
  "kernelspec": {
   "display_name": "Python 3 (ipykernel)",
   "language": "python",
   "name": "python3"
  },
  "language_info": {
   "codemirror_mode": {
    "name": "ipython",
    "version": 3
   },
   "file_extension": ".py",
   "mimetype": "text/x-python",
   "name": "python",
   "nbconvert_exporter": "python",
   "pygments_lexer": "ipython3",
   "version": "3.11.7"
  }
 },
 "nbformat": 4,
 "nbformat_minor": 5
}
